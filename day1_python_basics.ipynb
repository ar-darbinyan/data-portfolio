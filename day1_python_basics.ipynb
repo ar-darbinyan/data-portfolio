{
  "nbformat": 4,
  "nbformat_minor": 0,
  "metadata": {
    "colab": {
      "provenance": [],
      "authorship_tag": "ABX9TyOO9Ve8+Rw8RCkKGBEQ1nUV",
      "include_colab_link": true
    },
    "kernelspec": {
      "name": "python3",
      "display_name": "Python 3"
    },
    "language_info": {
      "name": "python"
    }
  },
  "cells": [
    {
      "cell_type": "markdown",
      "metadata": {
        "id": "view-in-github",
        "colab_type": "text"
      },
      "source": [
        "<a href=\"https://colab.research.google.com/github/ar-darbinyan/data-portfolio/blob/main/day1_python_basics.ipynb\" target=\"_parent\"><img src=\"https://colab.research.google.com/assets/colab-badge.svg\" alt=\"Open In Colab\"/></a>"
      ]
    },
    {
      "cell_type": "code",
      "source": [
        "# Day 1 — tiny Python wins\n",
        "print(\"Hello, Araksya! Day 1 ✅\")\n",
        "\n",
        "# simple math\n",
        "a = 10\n",
        "b = 3\n",
        "print(\"a + b =\", a + b)\n",
        "print(\"a / b =\", a / b)\n",
        "\n",
        "# list and loop\n",
        "numbers = [1, 2, 3, 4, 5]\n",
        "for i in numbers:\n",
        "    print(\"Number:\", i)\n",
        "\n",
        "# range loop and sum\n",
        "total = 0\n",
        "for n in range(1, 6):\n",
        "    total += n\n",
        "print(\"Sum 1..5 =\", total)\n",
        "\n",
        "# list comprehension (short & pythonic)\n",
        "squares = [x**2 for x in numbers]\n",
        "print(\"Squares:\", squares)\n",
        "\n"
      ],
      "metadata": {
        "colab": {
          "base_uri": "https://localhost:8080/"
        },
        "id": "kXQF7V1EYZLm",
        "outputId": "8dde823a-302d-4338-8e1f-ceb236bac247"
      },
      "execution_count": 1,
      "outputs": [
        {
          "output_type": "stream",
          "name": "stdout",
          "text": [
            "Hello, Araksya! Day 1 ✅\n",
            "a + b = 13\n",
            "a / b = 3.3333333333333335\n",
            "Number: 1\n",
            "Number: 2\n",
            "Number: 3\n",
            "Number: 4\n",
            "Number: 5\n",
            "Sum 1..5 = 15\n",
            "Squares: [1, 4, 9, 16, 25]\n"
          ]
        }
      ]
    },
    {
      "cell_type": "markdown",
      "source": [
        "# Day 1: Python basics\n",
        "Practiced prints, simple math, lists and loops. Next: pandas and saving notebook to GitHub.\n"
      ],
      "metadata": {
        "id": "r9FhA2iWYvD6"
      }
    }
  ]
}